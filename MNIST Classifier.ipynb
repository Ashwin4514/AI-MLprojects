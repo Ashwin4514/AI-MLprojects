{
 "cells": [
  {
   "cell_type": "markdown",
   "metadata": {},
   "source": [
    "<H1>MNIST DATASET PRACTISE</H1>\n",
    "<p>It is an acronym thats stands for the Modified National Institute Of Standards and Technology Dataset. This dataset has around 60000 small squares of 28x28 pixel grayscale images of handwritten digits between 0 to 9. The Idea is to classify these digits.The copyrights for this dataset is held by Yann LeCun and Corinna Cortes.</p> "
   ]
  },
  {
   "cell_type": "code",
   "execution_count": 1,
   "metadata": {},
   "outputs": [],
   "source": [
    "import numpy as np\n",
    "from sklearn.model_selection import KFold\n",
    "from tensorflow.keras.utils import to_categorical\n",
    "from tensorflow.keras.models import Sequential\n",
    "from tensorflow.keras.layers import Conv2D\n",
    "from tensorflow.keras.layers import MaxPooling2D\n",
    "from tensorflow.keras.layers import Dense\n",
    "from tensorflow.keras.layers import Flatten\n",
    "from tensorflow.keras.optimizers import SGD"
   ]
  },
  {
   "cell_type": "code",
   "execution_count": 2,
   "metadata": {},
   "outputs": [],
   "source": [
    "#load the dataset and inspect some of its examples.\n",
    "import tensorflow \n",
    "from tensorflow.keras.datasets import mnist\n",
    "import matplotlib.pyplot as plt\n",
    "\n",
    "(X_train, Y_train), (X_test, Y_test) = tensorflow.keras.datasets.mnist.load_data()\n",
    "\n",
    "#reshaping the dataset to convert them into one-hots\n",
    "X_train= X_train.reshape((X_train.shape[0],28,28,1))\n",
    "X_test= X_test.reshape((X_test.shape[0],28,28,1))\n",
    "\n",
    "Y_train= tensorflow.one_hot(Y_train,10)\n",
    "Y_test= tensorflow.one_hot(Y_test,10)"
   ]
  },
  {
   "cell_type": "code",
   "execution_count": 3,
   "metadata": {},
   "outputs": [],
   "source": [
    " #for i in range(1,16,1):\n",
    "     #plt.subplot(4,4,i)\n",
    "     #plt.imshow(X_train[i], cmap=pyplot.get_cmap('gray'))\n",
    "     #plt.show()    \n"
   ]
  },
  {
   "cell_type": "code",
   "execution_count": 4,
   "metadata": {},
   "outputs": [
    {
     "name": "stdout",
     "output_type": "stream",
     "text": [
      "Model: \"sequential\"\n",
      "_________________________________________________________________\n",
      "Layer (type)                 Output Shape              Param #   \n",
      "=================================================================\n",
      "conv2d (Conv2D)              (None, 26, 26, 32)        320       \n",
      "_________________________________________________________________\n",
      "batch_normalization (BatchNo (None, 26, 26, 32)        128       \n",
      "_________________________________________________________________\n",
      "max_pooling2d (MaxPooling2D) (None, 13, 13, 32)        0         \n",
      "_________________________________________________________________\n",
      "flatten (Flatten)            (None, 5408)              0         \n",
      "_________________________________________________________________\n",
      "dense (Dense)                (None, 100)               540900    \n",
      "_________________________________________________________________\n",
      "batch_normalization_1 (Batch (None, 100)               400       \n",
      "_________________________________________________________________\n",
      "dense_1 (Dense)              (None, 10)                1010      \n",
      "=================================================================\n",
      "Total params: 542,758\n",
      "Trainable params: 542,494\n",
      "Non-trainable params: 264\n",
      "_________________________________________________________________\n"
     ]
    }
   ],
   "source": [
    "#Making the Model\n",
    "model= tensorflow.keras.Sequential()\n",
    "model.add(Conv2D(32, (3,3), activation='relu', kernel_initializer='he_uniform', input_shape=(28,28,1)))\n",
    "model.add(tensorflow.keras.layers.BatchNormalization())\n",
    "model.add(MaxPooling2D((2,2)))\n",
    "model.add(Flatten())\n",
    "model.add(Dense(100, activation='relu',kernel_initializer='he_uniform'))\n",
    "model.add(tensorflow.keras.layers.BatchNormalization())\n",
    "model.add(Dense(10, activation='softmax'))\n",
    "\n",
    "#Compile Model\n",
    "op= SGD(learning_rate= 0.01, momentum=0.9)\n",
    "model.compile(optimizer= op, loss= 'categorical_crossentropy', metrics=['accuracy'])\n",
    "model.summary()"
   ]
  },
  {
   "cell_type": "code",
   "execution_count": 5,
   "metadata": {},
   "outputs": [],
   "source": [
    "#Normalizing Train and Test data\n",
    "X_train= X_train.astype('float32')/255\n",
    "\n",
    "X_test= X_test.astype('float32')/255"
   ]
  },
  {
   "cell_type": "code",
   "execution_count": 6,
   "metadata": {},
   "outputs": [
    {
     "name": "stdout",
     "output_type": "stream",
     "text": [
      "Epoch 1/20\n",
      "938/938 [==============================] - 38s 40ms/step - loss: 0.1278 - accuracy: 0.9622\n",
      "Epoch 2/20\n",
      "938/938 [==============================] - 38s 40ms/step - loss: 0.0457 - accuracy: 0.9866\n",
      "Epoch 3/20\n",
      "938/938 [==============================] - 38s 40ms/step - loss: 0.0265 - accuracy: 0.9925\n",
      "Epoch 4/20\n",
      "938/938 [==============================] - 38s 41ms/step - loss: 0.0165 - accuracy: 0.9957\n",
      "Epoch 5/20\n",
      "938/938 [==============================] - 38s 41ms/step - loss: 0.0106 - accuracy: 0.9976\n",
      "Epoch 6/20\n",
      "938/938 [==============================] - 38s 41ms/step - loss: 0.0066 - accuracy: 0.9990\n",
      "Epoch 7/20\n",
      "938/938 [==============================] - 38s 40ms/step - loss: 0.0049 - accuracy: 0.9995\n",
      "Epoch 8/20\n",
      "938/938 [==============================] - 39s 41ms/step - loss: 0.0035 - accuracy: 0.9997\n",
      "Epoch 9/20\n",
      "938/938 [==============================] - 38s 41ms/step - loss: 0.0027 - accuracy: 0.9998\n",
      "Epoch 10/20\n",
      "938/938 [==============================] - 39s 41ms/step - loss: 0.0022 - accuracy: 0.9999\n",
      "Epoch 11/20\n",
      "938/938 [==============================] - 39s 42ms/step - loss: 0.0015 - accuracy: 0.9999\n",
      "Epoch 12/20\n",
      "938/938 [==============================] - 39s 42ms/step - loss: 0.0013 - accuracy: 1.0000\n",
      "Epoch 13/20\n",
      "938/938 [==============================] - 39s 42ms/step - loss: 0.0011 - accuracy: 1.0000\n",
      "Epoch 14/20\n",
      "938/938 [==============================] - 38s 41ms/step - loss: 0.0010 - accuracy: 1.0000\n",
      "Epoch 15/20\n",
      "938/938 [==============================] - 38s 41ms/step - loss: 8.3615e-04 - accuracy: 1.0000\n",
      "Epoch 16/20\n",
      "938/938 [==============================] - 38s 41ms/step - loss: 7.5959e-04 - accuracy: 1.0000\n",
      "Epoch 17/20\n",
      "938/938 [==============================] - 38s 41ms/step - loss: 7.1373e-04 - accuracy: 1.00001s -\n",
      "Epoch 18/20\n",
      "938/938 [==============================] - 38s 41ms/step - loss: 6.2600e-04 - accuracy: 1.0000\n",
      "Epoch 19/20\n",
      "938/938 [==============================] - 39s 41ms/step - loss: 6.2010e-04 - accuracy: 1.0000\n",
      "Epoch 20/20\n",
      "938/938 [==============================] - 39s 42ms/step - loss: 5.3796e-04 - accuracy: 1.0000\n"
     ]
    }
   ],
   "source": [
    "final= model.fit(X_train, Y_train,batch_size=64, epochs=20)"
   ]
  },
  {
   "cell_type": "code",
   "execution_count": 7,
   "metadata": {},
   "outputs": [
    {
     "name": "stdout",
     "output_type": "stream",
     "text": [
      "Model: \"sequential_1\"\n",
      "_________________________________________________________________\n",
      "Layer (type)                 Output Shape              Param #   \n",
      "=================================================================\n",
      "conv2d_1 (Conv2D)            (None, 28, 28, 32)        320       \n",
      "_________________________________________________________________\n",
      "conv2d_2 (Conv2D)            (None, 28, 28, 32)        9248      \n",
      "_________________________________________________________________\n",
      "max_pooling2d_1 (MaxPooling2 (None, 14, 14, 32)        0         \n",
      "_________________________________________________________________\n",
      "flatten_1 (Flatten)          (None, 6272)              0         \n",
      "_________________________________________________________________\n",
      "dense_2 (Dense)              (None, 64)                401472    \n",
      "_________________________________________________________________\n",
      "dense_3 (Dense)              (None, 10)                650       \n",
      "=================================================================\n",
      "Total params: 411,690\n",
      "Trainable params: 411,690\n",
      "Non-trainable params: 0\n",
      "_________________________________________________________________\n"
     ]
    }
   ],
   "source": [
    "#Second Model Making\n",
    "model_2= Sequential()\n",
    "model_2.add(Conv2D(32,(3,3), activation='relu',padding='same', input_shape=(28, 28,1)))\n",
    "model_2.add(Conv2D(32,(3,3),padding='same', activation='relu'))\n",
    "model_2.add(MaxPooling2D(pool_size=(2, 2)))\n",
    "model_2.add(Flatten())\n",
    "model_2.add(Dense(64, activation='relu'))\n",
    "model_2.add(Dense(10, activation='softmax'))\n",
    "model_2.compile(optimizer='adam',loss='categorical_crossentropy', metrics=['accuracy'])\n",
    "model_2.summary()"
   ]
  },
  {
   "cell_type": "code",
   "execution_count": 8,
   "metadata": {},
   "outputs": [
    {
     "name": "stdout",
     "output_type": "stream",
     "text": [
      "Epoch 1/20\n",
      "469/469 [==============================] - 75s 159ms/step - loss: 0.2071 - accuracy: 0.9391\n",
      "Epoch 2/20\n",
      "469/469 [==============================] - 75s 160ms/step - loss: 0.0558 - accuracy: 0.9834\n",
      "Epoch 3/20\n",
      "469/469 [==============================] - 76s 161ms/step - loss: 0.0376 - accuracy: 0.9884\n",
      "Epoch 4/20\n",
      "469/469 [==============================] - 75s 160ms/step - loss: 0.0274 - accuracy: 0.9912\n",
      "Epoch 5/20\n",
      "469/469 [==============================] - 78s 166ms/step - loss: 0.0198 - accuracy: 0.9937\n",
      "Epoch 6/20\n",
      "469/469 [==============================] - 75s 161ms/step - loss: 0.0156 - accuracy: 0.9948\n",
      "Epoch 7/20\n",
      "469/469 [==============================] - 75s 161ms/step - loss: 0.0106 - accuracy: 0.9969\n",
      "Epoch 8/20\n",
      "469/469 [==============================] - 76s 161ms/step - loss: 0.0109 - accuracy: 0.9965\n",
      "Epoch 9/20\n",
      "469/469 [==============================] - 75s 161ms/step - loss: 0.0085 - accuracy: 0.9971\n",
      "Epoch 10/20\n",
      "469/469 [==============================] - 75s 160ms/step - loss: 0.0064 - accuracy: 0.9979\n",
      "Epoch 11/20\n",
      "469/469 [==============================] - 75s 160ms/step - loss: 0.0074 - accuracy: 0.9975\n",
      "Epoch 12/20\n",
      "469/469 [==============================] - 75s 160ms/step - loss: 0.0052 - accuracy: 0.9983\n",
      "Epoch 13/20\n",
      "469/469 [==============================] - 76s 162ms/step - loss: 0.0059 - accuracy: 0.9979\n",
      "Epoch 14/20\n",
      "469/469 [==============================] - 75s 160ms/step - loss: 0.0041 - accuracy: 0.9986\n",
      "Epoch 15/20\n",
      "469/469 [==============================] - 75s 160ms/step - loss: 0.0036 - accuracy: 0.9987\n",
      "Epoch 16/20\n",
      "469/469 [==============================] - 75s 160ms/step - loss: 0.0035 - accuracy: 0.9989\n",
      "Epoch 17/20\n",
      "469/469 [==============================] - 75s 160ms/step - loss: 0.0021 - accuracy: 0.9992\n",
      "Epoch 18/20\n",
      "469/469 [==============================] - 76s 161ms/step - loss: 0.0056 - accuracy: 0.9980\n",
      "Epoch 19/20\n",
      "469/469 [==============================] - 75s 160ms/step - loss: 0.0034 - accuracy: 0.9988\n",
      "Epoch 20/20\n",
      "469/469 [==============================] - 76s 163ms/step - loss: 0.0034 - accuracy: 0.9989\n"
     ]
    }
   ],
   "source": [
    "final_2=model_2.fit(X_train, Y_train,batch_size=128, epochs=20)"
   ]
  },
  {
   "cell_type": "code",
   "execution_count": 15,
   "metadata": {},
   "outputs": [
    {
     "data": {
      "image/png": "[encoded data removed]",
      "text/plain": [
       "<Figure size 720x360 with 2 Axes>"
      ]
     },
     "metadata": {
      "needs_background": "light"
     },
     "output_type": "display_data"
    }
   ],
   "source": [
    "metrics= ['accuracy','loss']\n",
    "plt.figure(figsize=(10,5))\n",
    "\n",
    "for i in range(len(metrics)):\n",
    "    metric= metrics[i]\n",
    "    \n",
    "    plt.subplot(1,2,i+1)\n",
    "    plt.title(metric) \n",
    "    plt_result1= final.history[metric]\n",
    "    plt_result2= final_2.history[metric]\n",
    "    \n",
    "    plt.plot(plt_result1, label='1st Model')\n",
    "    plt.plot(plt_result2, label='2nd Model')\n",
    "    plt.legend() \n",
    "    \n",
    "plt.show()    "
   ]
  },
  {
   "cell_type": "code",
   "execution_count": 10,
   "metadata": {},
   "outputs": [],
   "source": [
    "predictions= model.predict(X_test)\n",
    "predictions_2= model_2.predict(X_test)"
   ]
  },
  {
   "cell_type": "code",
   "execution_count": 17,
   "metadata": {},
   "outputs": [
    {
     "name": "stdout",
     "output_type": "stream",
     "text": [
      "4\n",
      "4\n"
     ]
    },
    {
     "data": {
      "image/png": "[encoded data removed]",
      "text/plain": [
       "<Figure size 432x288 with 1 Axes>"
      ]
     },
     "metadata": {
      "needs_background": "light"
     },
     "output_type": "display_data"
    },
    {
     "name": "stdout",
     "output_type": "stream",
     "text": [
      "9\n",
      "9\n"
     ]
    },
    {
     "data": {
      "image/png": "[encoded data removed]",
      "text/plain": [
       "<Figure size 432x288 with 1 Axes>"
      ]
     },
     "metadata": {
      "needs_background": "light"
     },
     "output_type": "display_data"
    },
    {
     "name": "stdout",
     "output_type": "stream",
     "text": [
      "5\n",
      "5\n"
     ]
    },
    {
     "data": {
      "image/png": "[encoded data removed]",
      "text/plain": [
       "<Figure size 432x288 with 1 Axes>"
      ]
     },
     "metadata": {
      "needs_background": "light"
     },
     "output_type": "display_data"
    },
    {
     "name": "stdout",
     "output_type": "stream",
     "text": [
      "9\n",
      "9\n"
     ]
    },
    {
     "data": {
      "image/png": "[encoded data removed]",
      "text/plain": [
       "<Figure size 432x288 with 1 Axes>"
      ]
     },
     "metadata": {
      "needs_background": "light"
     },
     "output_type": "display_data"
    },
    {
     "name": "stdout",
     "output_type": "stream",
     "text": [
      "0\n",
      "0\n"
     ]
    },
    {
     "data": {
      "image/png": "[encoded data removed]",
      "text/plain": [
       "<Figure size 432x288 with 1 Axes>"
      ]
     },
     "metadata": {
      "needs_background": "light"
     },
     "output_type": "display_data"
    },
    {
     "name": "stdout",
     "output_type": "stream",
     "text": [
      "6\n",
      "6\n"
     ]
    },
    {
     "data": {
      "image/png": "[encoded data removed]",
      "text/plain": [
       "<Figure size 432x288 with 1 Axes>"
      ]
     },
     "metadata": {
      "needs_background": "light"
     },
     "output_type": "display_data"
    },
    {
     "name": "stdout",
     "output_type": "stream",
     "text": [
      "9\n",
      "9\n"
     ]
    },
    {
     "data": {
      "image/png": "[encoded data removed]",
      "text/plain": [
       "<Figure size 432x288 with 1 Axes>"
      ]
     },
     "metadata": {
      "needs_background": "light"
     },
     "output_type": "display_data"
    },
    {
     "name": "stdout",
     "output_type": "stream",
     "text": [
      "0\n",
      "0\n"
     ]
    },
    {
     "data": {
      "image/png": "[encoded data removed]",
      "text/plain": [
       "<Figure size 432x288 with 1 Axes>"
      ]
     },
     "metadata": {
      "needs_background": "light"
     },
     "output_type": "display_data"
    },
    {
     "name": "stdout",
     "output_type": "stream",
     "text": [
      "1\n",
      "1\n"
     ]
    },
    {
     "data": {
      "image/png": "[encoded data removed]",
      "text/plain": [
       "<Figure size 432x288 with 1 Axes>"
      ]
     },
     "metadata": {
      "needs_background": "light"
     },
     "output_type": "display_data"
    }
   ],
   "source": [
    "#Show Predictions.\n",
    "for i in range(1,10,1):\n",
    "    plt.subplot(3,3,i)\n",
    "    plt.imshow(X_test[i+5])\n",
    "    print(np.argmax(predictions[i+5]))\n",
    "    print(np.argmax(predictions_2[i+5]))\n",
    "    plt.show()"
   ]
  },
  {
   "cell_type": "markdown",
   "metadata": {},
   "source": [
    "<H1> Result </H1>\n",
    "<p>Accuracy for Model_1= 100%</p>\n",
    "<p>Accuracy for Model_2= 99.89%</p>"
   ]
  },
  {
   "cell_type": "code",
   "execution_count": null,
   "metadata": {},
   "outputs": [],
   "source": []
  }
 ],
 "metadata": {
  "kernelspec": {
   "display_name": "Python 3",
   "language": "python",
   "name": "python3"
  },
  "language_info": {
   "codemirror_mode": {
    "name": "ipython",
    "version": 3
   },
   "file_extension": ".py",
   "mimetype": "text/x-python",
   "name": "python",
   "nbconvert_exporter": "python",
   "pygments_lexer": "ipython3",
   "version": "3.8.8"
  }
 },
 "nbformat": 4,
 "nbformat_minor": 2
}
